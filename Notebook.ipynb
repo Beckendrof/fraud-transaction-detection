{
 "cells": [
  {
   "cell_type": "markdown",
   "id": "2590de10",
   "metadata": {},
   "source": [
    "# Fraud Detection Prediction"
   ]
  },
  {
   "cell_type": "markdown",
   "id": "95d3746c",
   "metadata": {},
   "source": [
    "For any bank or financial organization,fraud detection is of utmost importance. We have to spot potential fraud so that consumers can not bill for goods that they haven’t purchased. The aim is, therefore, to create a classifier that indicates whether a requested transaction is a fraud.\n",
    "\n",
    "### Statistical data analysis techniques include:\n",
    "\n",
    "- calculating statistical parameters\n",
    "- regression analysis\n",
    "- probability distributions and models\n",
    "- data matching\n",
    "\n",
    "### AI techniques used to detect fraud include:\n",
    "\n",
    "- Data mining classifies, groups and segments data to search through millions of transactions to find patterns and detect fraud.\n",
    "- Neural networks learn suspicious-looking patterns and use those patterns to detect them further.\n",
    "- Machine learning automatically identifies characteristics found in fraud.\n",
    "- Pattern recognition detects classes, clusters and patterns of suspicious behavior."
   ]
  },
  {
   "cell_type": "markdown",
   "id": "d794acfb",
   "metadata": {},
   "source": [
    "### Setting up the evironment"
   ]
  },
  {
   "cell_type": "code",
   "execution_count": 68,
   "id": "8fb3281e",
   "metadata": {},
   "outputs": [
    {
     "data": {
      "text/plain": [
       "<pandas._config.config.option_context at 0x7fea3a5f21c0>"
      ]
     },
     "execution_count": 68,
     "metadata": {},
     "output_type": "execute_result"
    }
   ],
   "source": [
    "import pandas as pd\n",
    "import numpy as np\n",
    "import seaborn as sns\n",
    "import matplotlib.pyplot as plt\n",
    "\n",
    "from sklearn.preprocessing import StandardScaler, Normalizer\n",
    "from sklearn.model_selection import train_test_split\n",
    "from sklearn.metrics import classification_report\n",
    "from sklearn.metrics import log_loss, f1_score, recall_score, confusion_matrix, accuracy_score, roc_auc_score, precision_score, ConfusionMatrixDisplay\n",
    "from sklearn.linear_model import LogisticRegression, LogisticRegressionCV\n",
    "from imblearn.over_sampling import SMOTE\n",
    "from sklearn.metrics import plot_roc_curve\n",
    "\n",
    "pd.option_context('display.max_columns', None, 'display.precision', 3)"
   ]
  },
  {
   "cell_type": "markdown",
   "id": "f489c7ed",
   "metadata": {},
   "source": [
    "# 1. Raw data Collection and preprocessing"
   ]
  },
  {
   "cell_type": "markdown",
   "id": "d67245dd",
   "metadata": {},
   "source": [
    "### Checking for missing/null values"
   ]
  },
  {
   "cell_type": "code",
   "execution_count": 69,
   "id": "19f0d9d2",
   "metadata": {},
   "outputs": [
    {
     "data": {
      "text/plain": [
       "step              False\n",
       "type              False\n",
       "amount            False\n",
       "nameOrig          False\n",
       "oldbalanceOrg     False\n",
       "newbalanceOrig    False\n",
       "nameDest          False\n",
       "oldbalanceDest    False\n",
       "newbalanceDest    False\n",
       "isFraud           False\n",
       "isFlaggedFraud    False\n",
       "dtype: bool"
      ]
     },
     "execution_count": 69,
     "metadata": {},
     "output_type": "execute_result"
    }
   ],
   "source": [
    "data = pd.read_csv(\"Fraud.csv\")\n",
    "pd.isnull(data).any()"
   ]
  },
  {
   "cell_type": "code",
   "execution_count": 70,
   "id": "5b0fc73e",
   "metadata": {},
   "outputs": [
    {
     "data": {
      "text/plain": [
       "step              False\n",
       "type              False\n",
       "amount            False\n",
       "nameOrig          False\n",
       "oldbalanceOrg     False\n",
       "newbalanceOrig    False\n",
       "nameDest          False\n",
       "oldbalanceDest    False\n",
       "newbalanceDest    False\n",
       "isFraud           False\n",
       "isFlaggedFraud    False\n",
       "dtype: bool"
      ]
     },
     "execution_count": 70,
     "metadata": {},
     "output_type": "execute_result"
    }
   ],
   "source": [
    "pd.isna(data).any()"
   ]
  },
  {
   "cell_type": "markdown",
   "id": "9b09a0ed",
   "metadata": {},
   "source": [
    "### Dropping rows with type = DEBIT, PAYMENT, CASH_IN \n",
    "These columns on observation have been noticed to have significantly less impact and almost no correlation with the isFraud column."
   ]
  },
  {
   "cell_type": "code",
   "execution_count": 95,
   "id": "288aac29",
   "metadata": {},
   "outputs": [],
   "source": [
    "#define values\n",
    "values = ['DEBIT', 'PAYMENT', 'CASH_IN']\n",
    "\n",
    "#drop rows that contain any value in the list\n",
    "data = data[data.type.isin(values) == False]"
   ]
  },
  {
   "cell_type": "markdown",
   "id": "45dd2bbe",
   "metadata": {},
   "source": [
    "#### Getting Dummy values for 'type' column"
   ]
  },
  {
   "cell_type": "code",
   "execution_count": 96,
   "id": "30ef2c19",
   "metadata": {},
   "outputs": [],
   "source": [
    "dummy_df2 = pd.get_dummies(data, columns=['type'], prefix=[\"\"])"
   ]
  },
  {
   "cell_type": "code",
   "execution_count": 97,
   "id": "6e86814c",
   "metadata": {},
   "outputs": [
    {
     "data": {
      "text/html": [
       "<div>\n",
       "<style scoped>\n",
       "    .dataframe tbody tr th:only-of-type {\n",
       "        vertical-align: middle;\n",
       "    }\n",
       "\n",
       "    .dataframe tbody tr th {\n",
       "        vertical-align: top;\n",
       "    }\n",
       "\n",
       "    .dataframe thead th {\n",
       "        text-align: right;\n",
       "    }\n",
       "</style>\n",
       "<table border=\"1\" class=\"dataframe\">\n",
       "  <thead>\n",
       "    <tr style=\"text-align: right;\">\n",
       "      <th></th>\n",
       "      <th>step</th>\n",
       "      <th>amount</th>\n",
       "      <th>nameOrig</th>\n",
       "      <th>oldbalanceOrg</th>\n",
       "      <th>newbalanceOrig</th>\n",
       "      <th>nameDest</th>\n",
       "      <th>oldbalanceDest</th>\n",
       "      <th>newbalanceDest</th>\n",
       "      <th>isFraud</th>\n",
       "      <th>isFlaggedFraud</th>\n",
       "      <th>_CASH_OUT</th>\n",
       "      <th>_TRANSFER</th>\n",
       "    </tr>\n",
       "  </thead>\n",
       "  <tbody>\n",
       "    <tr>\n",
       "      <th>2</th>\n",
       "      <td>1</td>\n",
       "      <td>181.00</td>\n",
       "      <td>C1305486145</td>\n",
       "      <td>181.00</td>\n",
       "      <td>0.0</td>\n",
       "      <td>C553264065</td>\n",
       "      <td>0.00</td>\n",
       "      <td>0.00</td>\n",
       "      <td>1</td>\n",
       "      <td>0</td>\n",
       "      <td>0</td>\n",
       "      <td>1</td>\n",
       "    </tr>\n",
       "    <tr>\n",
       "      <th>3</th>\n",
       "      <td>1</td>\n",
       "      <td>181.00</td>\n",
       "      <td>C840083671</td>\n",
       "      <td>181.00</td>\n",
       "      <td>0.0</td>\n",
       "      <td>C38997010</td>\n",
       "      <td>21182.00</td>\n",
       "      <td>0.00</td>\n",
       "      <td>1</td>\n",
       "      <td>0</td>\n",
       "      <td>1</td>\n",
       "      <td>0</td>\n",
       "    </tr>\n",
       "    <tr>\n",
       "      <th>15</th>\n",
       "      <td>1</td>\n",
       "      <td>229133.94</td>\n",
       "      <td>C905080434</td>\n",
       "      <td>15325.00</td>\n",
       "      <td>0.0</td>\n",
       "      <td>C476402209</td>\n",
       "      <td>5083.00</td>\n",
       "      <td>51513.44</td>\n",
       "      <td>0</td>\n",
       "      <td>0</td>\n",
       "      <td>1</td>\n",
       "      <td>0</td>\n",
       "    </tr>\n",
       "    <tr>\n",
       "      <th>19</th>\n",
       "      <td>1</td>\n",
       "      <td>215310.30</td>\n",
       "      <td>C1670993182</td>\n",
       "      <td>705.00</td>\n",
       "      <td>0.0</td>\n",
       "      <td>C1100439041</td>\n",
       "      <td>22425.00</td>\n",
       "      <td>0.00</td>\n",
       "      <td>0</td>\n",
       "      <td>0</td>\n",
       "      <td>0</td>\n",
       "      <td>1</td>\n",
       "    </tr>\n",
       "    <tr>\n",
       "      <th>24</th>\n",
       "      <td>1</td>\n",
       "      <td>311685.89</td>\n",
       "      <td>C1984094095</td>\n",
       "      <td>10835.00</td>\n",
       "      <td>0.0</td>\n",
       "      <td>C932583850</td>\n",
       "      <td>6267.00</td>\n",
       "      <td>2719172.89</td>\n",
       "      <td>0</td>\n",
       "      <td>0</td>\n",
       "      <td>0</td>\n",
       "      <td>1</td>\n",
       "    </tr>\n",
       "    <tr>\n",
       "      <th>...</th>\n",
       "      <td>...</td>\n",
       "      <td>...</td>\n",
       "      <td>...</td>\n",
       "      <td>...</td>\n",
       "      <td>...</td>\n",
       "      <td>...</td>\n",
       "      <td>...</td>\n",
       "      <td>...</td>\n",
       "      <td>...</td>\n",
       "      <td>...</td>\n",
       "      <td>...</td>\n",
       "      <td>...</td>\n",
       "    </tr>\n",
       "    <tr>\n",
       "      <th>6362615</th>\n",
       "      <td>743</td>\n",
       "      <td>339682.13</td>\n",
       "      <td>C786484425</td>\n",
       "      <td>339682.13</td>\n",
       "      <td>0.0</td>\n",
       "      <td>C776919290</td>\n",
       "      <td>0.00</td>\n",
       "      <td>339682.13</td>\n",
       "      <td>1</td>\n",
       "      <td>0</td>\n",
       "      <td>1</td>\n",
       "      <td>0</td>\n",
       "    </tr>\n",
       "    <tr>\n",
       "      <th>6362616</th>\n",
       "      <td>743</td>\n",
       "      <td>6311409.28</td>\n",
       "      <td>C1529008245</td>\n",
       "      <td>6311409.28</td>\n",
       "      <td>0.0</td>\n",
       "      <td>C1881841831</td>\n",
       "      <td>0.00</td>\n",
       "      <td>0.00</td>\n",
       "      <td>1</td>\n",
       "      <td>0</td>\n",
       "      <td>0</td>\n",
       "      <td>1</td>\n",
       "    </tr>\n",
       "    <tr>\n",
       "      <th>6362617</th>\n",
       "      <td>743</td>\n",
       "      <td>6311409.28</td>\n",
       "      <td>C1162922333</td>\n",
       "      <td>6311409.28</td>\n",
       "      <td>0.0</td>\n",
       "      <td>C1365125890</td>\n",
       "      <td>68488.84</td>\n",
       "      <td>6379898.11</td>\n",
       "      <td>1</td>\n",
       "      <td>0</td>\n",
       "      <td>1</td>\n",
       "      <td>0</td>\n",
       "    </tr>\n",
       "    <tr>\n",
       "      <th>6362618</th>\n",
       "      <td>743</td>\n",
       "      <td>850002.52</td>\n",
       "      <td>C1685995037</td>\n",
       "      <td>850002.52</td>\n",
       "      <td>0.0</td>\n",
       "      <td>C2080388513</td>\n",
       "      <td>0.00</td>\n",
       "      <td>0.00</td>\n",
       "      <td>1</td>\n",
       "      <td>0</td>\n",
       "      <td>0</td>\n",
       "      <td>1</td>\n",
       "    </tr>\n",
       "    <tr>\n",
       "      <th>6362619</th>\n",
       "      <td>743</td>\n",
       "      <td>850002.52</td>\n",
       "      <td>C1280323807</td>\n",
       "      <td>850002.52</td>\n",
       "      <td>0.0</td>\n",
       "      <td>C873221189</td>\n",
       "      <td>6510099.11</td>\n",
       "      <td>7360101.63</td>\n",
       "      <td>1</td>\n",
       "      <td>0</td>\n",
       "      <td>1</td>\n",
       "      <td>0</td>\n",
       "    </tr>\n",
       "  </tbody>\n",
       "</table>\n",
       "<p>2770409 rows × 12 columns</p>\n",
       "</div>"
      ],
      "text/plain": [
       "         step      amount     nameOrig  oldbalanceOrg  newbalanceOrig  \\\n",
       "2           1      181.00  C1305486145         181.00             0.0   \n",
       "3           1      181.00   C840083671         181.00             0.0   \n",
       "15          1   229133.94   C905080434       15325.00             0.0   \n",
       "19          1   215310.30  C1670993182         705.00             0.0   \n",
       "24          1   311685.89  C1984094095       10835.00             0.0   \n",
       "...       ...         ...          ...            ...             ...   \n",
       "6362615   743   339682.13   C786484425      339682.13             0.0   \n",
       "6362616   743  6311409.28  C1529008245     6311409.28             0.0   \n",
       "6362617   743  6311409.28  C1162922333     6311409.28             0.0   \n",
       "6362618   743   850002.52  C1685995037      850002.52             0.0   \n",
       "6362619   743   850002.52  C1280323807      850002.52             0.0   \n",
       "\n",
       "            nameDest  oldbalanceDest  newbalanceDest  isFraud  isFlaggedFraud  \\\n",
       "2         C553264065            0.00            0.00        1               0   \n",
       "3          C38997010        21182.00            0.00        1               0   \n",
       "15        C476402209         5083.00        51513.44        0               0   \n",
       "19       C1100439041        22425.00            0.00        0               0   \n",
       "24        C932583850         6267.00      2719172.89        0               0   \n",
       "...              ...             ...             ...      ...             ...   \n",
       "6362615   C776919290            0.00       339682.13        1               0   \n",
       "6362616  C1881841831            0.00            0.00        1               0   \n",
       "6362617  C1365125890        68488.84      6379898.11        1               0   \n",
       "6362618  C2080388513            0.00            0.00        1               0   \n",
       "6362619   C873221189      6510099.11      7360101.63        1               0   \n",
       "\n",
       "         _CASH_OUT  _TRANSFER  \n",
       "2                0          1  \n",
       "3                1          0  \n",
       "15               1          0  \n",
       "19               0          1  \n",
       "24               0          1  \n",
       "...            ...        ...  \n",
       "6362615          1          0  \n",
       "6362616          0          1  \n",
       "6362617          1          0  \n",
       "6362618          0          1  \n",
       "6362619          1          0  \n",
       "\n",
       "[2770409 rows x 12 columns]"
      ]
     },
     "execution_count": 97,
     "metadata": {},
     "output_type": "execute_result"
    }
   ],
   "source": [
    "dummy_df2"
   ]
  },
  {
   "cell_type": "markdown",
   "id": "181badb4",
   "metadata": {},
   "source": [
    "# 2. Feature Engineering"
   ]
  },
  {
   "cell_type": "markdown",
   "id": "38cac7a3",
   "metadata": {},
   "source": [
    "### Defining 'isFlaggedFraud' column"
   ]
  },
  {
   "cell_type": "code",
   "execution_count": 98,
   "id": "1531660b",
   "metadata": {},
   "outputs": [],
   "source": [
    "def fraudflag(x):\n",
    "    if x>200000:\n",
    "        return 1\n",
    "    else:\n",
    "        return 0"
   ]
  },
  {
   "cell_type": "markdown",
   "id": "58b60182",
   "metadata": {},
   "source": [
    "### Creating new columns \n",
    "\n",
    "1. OrgChange = newbalanceOrig - oldblanaceOrg\n",
    "2. DestChange = newbalanceDest - oldbalanceDest\n",
    "\n",
    "#### Also dropping 'oldbalanceOrg', 'newbalanceOrig', 'newbalanceDest', 'oldbalanceDest', 'nameOrig', 'nameDest' and defining correlation df"
   ]
  },
  {
   "cell_type": "code",
   "execution_count": 186,
   "id": "56c39ef7",
   "metadata": {},
   "outputs": [],
   "source": [
    "dummy_df2['isFlaggedFraud'] = dummy_df2['amount'].apply(lambda x: fraudflag(x))\n",
    "dummy_df2['OrgChange'] = dummy_df2['newbalanceOrig'] - dummy_df2['oldbalanceOrg']  \n",
    "dummy_df2['DestChange'] = dummy_df2['newbalanceDest'] - dummy_df2['oldbalanceDest']  \n",
    "final_df2 = dummy_df2.drop(columns=['oldbalanceOrg', 'newbalanceOrig', 'newbalanceDest', 'oldbalanceDest', 'nameOrig', 'nameDest'])"
   ]
  },
  {
   "cell_type": "code",
   "execution_count": 187,
   "id": "bb56f3f1",
   "metadata": {},
   "outputs": [],
   "source": [
    "final_df2_corr = final_df2.drop(columns=['_TRANSFER','_CASH_OUT','isFlaggedFraud','isFraud'])"
   ]
  },
  {
   "cell_type": "code",
   "execution_count": 188,
   "id": "a0c66aee",
   "metadata": {},
   "outputs": [],
   "source": [
    "cols = [c for c in final_df2.columns if c[-6:] == 'Change']\n",
    "final_df2[cols] = final_df2[cols].apply(lambda x: abs(x))\n",
    "final_df2.reset_index(inplace=True)"
   ]
  },
  {
   "cell_type": "markdown",
   "id": "38b9d1ab",
   "metadata": {},
   "source": [
    "### Building Correlation matrix for non binary columns"
   ]
  },
  {
   "cell_type": "code",
   "execution_count": 189,
   "id": "f7ea386c",
   "metadata": {},
   "outputs": [
    {
     "data": {
      "text/plain": [
       "<AxesSubplot:>"
      ]
     },
     "execution_count": 189,
     "metadata": {},
     "output_type": "execute_result"
    },
    {
     "data": {
      "image/png": "[encoded data removed]",
      "text/plain": [
       "<Figure size 792x648 with 2 Axes>"
      ]
     },
     "metadata": {
      "needs_background": "light"
     },
     "output_type": "display_data"
    }
   ],
   "source": [
    "def corrX_orig(df, cut = 0.9) :\n",
    "        \n",
    "    # Get correlation matrix and upper triagle\n",
    "    corr_mtx = df.corr().abs()\n",
    "    avg_corr = corr_mtx.mean(axis = 1)\n",
    "    up = corr_mtx.where(np.triu(np.ones(corr_mtx.shape), k=1).astype(np.bool))\n",
    "    \n",
    "    drop = list()\n",
    "\n",
    "        \n",
    "    # For loop implements this pseudocode\n",
    "    # For every cell in the upper triangle: \n",
    "    # If cell.value > 0.6: \n",
    "    # If mean(row_correlation) > mean(column_correlation):drop(column)\n",
    "    # Else: drop(row)\n",
    "    for row in range(len(up)-1):\n",
    "        col_idx = row + 1\n",
    "        for col in range (col_idx, len(up)):\n",
    "            if(corr_mtx.iloc[row, col] > cut):\n",
    "                if(avg_corr.iloc[row] > avg_corr.iloc[col]): \n",
    "                    drop.append(row)\n",
    "                else: \n",
    "                    drop.append(col)\n",
    "    \n",
    "    drop_set = list(set(drop))\n",
    "    # dropcols_idx = drop_set\n",
    "    dropcols_names = list(df.columns[[item for item in drop_set]])\n",
    "    \n",
    "    return(dropcols_names)\n",
    "\n",
    "corr = final_df2_corr.corr()\n",
    "# Generate a mask for the upper triangle\n",
    "mask = np.triu(np.ones_like(corr, dtype=bool))\n",
    "\n",
    "# Set up the matplotlib figure\n",
    "f, ax = plt.subplots(figsize=(11, 9))\n",
    "\n",
    "# Generate a custom diverging colormap\n",
    "cmap = sns.diverging_palette(230, 20, as_cmap=True)\n",
    "\n",
    "# Draw the heatmap with the mask and correct aspect ratio\n",
    "sns.heatmap(corr, mask=mask, cmap=cmap, center=0,\n",
    "            square=True, linewidths=.5, cbar_kws={\"shrink\": .5})"
   ]
  },
  {
   "cell_type": "code",
   "execution_count": 190,
   "id": "2cf02f56",
   "metadata": {},
   "outputs": [
    {
     "name": "stdout",
     "output_type": "stream",
     "text": [
      "['amount']\n"
     ]
    },
    {
     "name": "stderr",
     "output_type": "stream",
     "text": [
      "/var/folders/7v/5bjjg3ds57g4cvrlx_ny2qvr0000gp/T/ipykernel_1292/3795163042.py:6: DeprecationWarning: `np.bool` is a deprecated alias for the builtin `bool`. To silence this warning, use `bool` by itself. Doing this will not modify any behavior and is safe. If you specifically wanted the numpy scalar type, use `np.bool_` here.\n",
      "Deprecated in NumPy 1.20; for more details and guidance: https://numpy.org/devdocs/release/1.20.0-notes.html#deprecations\n",
      "  up = corr_mtx.where(np.triu(np.ones(corr_mtx.shape), k=1).astype(np.bool))\n"
     ]
    }
   ],
   "source": [
    "drop = corrX_orig(final_df2_corr, cut = 0.6)\n",
    "print(drop)"
   ]
  },
  {
   "cell_type": "markdown",
   "id": "59626ec6",
   "metadata": {},
   "source": [
    "### Dropping columns \n",
    "Based on corrX_orig function decide cutoff we drop off the 'amount' column.  "
   ]
  },
  {
   "cell_type": "code",
   "execution_count": 191,
   "id": "955b79ef",
   "metadata": {},
   "outputs": [
    {
     "data": {
      "text/html": [
       "<div>\n",
       "<style scoped>\n",
       "    .dataframe tbody tr th:only-of-type {\n",
       "        vertical-align: middle;\n",
       "    }\n",
       "\n",
       "    .dataframe tbody tr th {\n",
       "        vertical-align: top;\n",
       "    }\n",
       "\n",
       "    .dataframe thead th {\n",
       "        text-align: right;\n",
       "    }\n",
       "</style>\n",
       "<table border=\"1\" class=\"dataframe\">\n",
       "  <thead>\n",
       "    <tr style=\"text-align: right;\">\n",
       "      <th></th>\n",
       "      <th>step</th>\n",
       "      <th>isFraud</th>\n",
       "      <th>isFlaggedFraud</th>\n",
       "      <th>_CASH_OUT</th>\n",
       "      <th>_TRANSFER</th>\n",
       "      <th>OrgChange</th>\n",
       "      <th>DestChange</th>\n",
       "    </tr>\n",
       "  </thead>\n",
       "  <tbody>\n",
       "    <tr>\n",
       "      <th>0</th>\n",
       "      <td>1</td>\n",
       "      <td>1</td>\n",
       "      <td>0</td>\n",
       "      <td>0</td>\n",
       "      <td>1</td>\n",
       "      <td>181.00</td>\n",
       "      <td>0.00</td>\n",
       "    </tr>\n",
       "    <tr>\n",
       "      <th>1</th>\n",
       "      <td>1</td>\n",
       "      <td>1</td>\n",
       "      <td>0</td>\n",
       "      <td>1</td>\n",
       "      <td>0</td>\n",
       "      <td>181.00</td>\n",
       "      <td>21182.00</td>\n",
       "    </tr>\n",
       "    <tr>\n",
       "      <th>2</th>\n",
       "      <td>1</td>\n",
       "      <td>0</td>\n",
       "      <td>1</td>\n",
       "      <td>1</td>\n",
       "      <td>0</td>\n",
       "      <td>15325.00</td>\n",
       "      <td>46430.44</td>\n",
       "    </tr>\n",
       "    <tr>\n",
       "      <th>3</th>\n",
       "      <td>1</td>\n",
       "      <td>0</td>\n",
       "      <td>1</td>\n",
       "      <td>0</td>\n",
       "      <td>1</td>\n",
       "      <td>705.00</td>\n",
       "      <td>22425.00</td>\n",
       "    </tr>\n",
       "    <tr>\n",
       "      <th>4</th>\n",
       "      <td>1</td>\n",
       "      <td>0</td>\n",
       "      <td>1</td>\n",
       "      <td>0</td>\n",
       "      <td>1</td>\n",
       "      <td>10835.00</td>\n",
       "      <td>2712905.89</td>\n",
       "    </tr>\n",
       "    <tr>\n",
       "      <th>...</th>\n",
       "      <td>...</td>\n",
       "      <td>...</td>\n",
       "      <td>...</td>\n",
       "      <td>...</td>\n",
       "      <td>...</td>\n",
       "      <td>...</td>\n",
       "      <td>...</td>\n",
       "    </tr>\n",
       "    <tr>\n",
       "      <th>2770404</th>\n",
       "      <td>743</td>\n",
       "      <td>1</td>\n",
       "      <td>1</td>\n",
       "      <td>1</td>\n",
       "      <td>0</td>\n",
       "      <td>339682.13</td>\n",
       "      <td>339682.13</td>\n",
       "    </tr>\n",
       "    <tr>\n",
       "      <th>2770405</th>\n",
       "      <td>743</td>\n",
       "      <td>1</td>\n",
       "      <td>1</td>\n",
       "      <td>0</td>\n",
       "      <td>1</td>\n",
       "      <td>6311409.28</td>\n",
       "      <td>0.00</td>\n",
       "    </tr>\n",
       "    <tr>\n",
       "      <th>2770406</th>\n",
       "      <td>743</td>\n",
       "      <td>1</td>\n",
       "      <td>1</td>\n",
       "      <td>1</td>\n",
       "      <td>0</td>\n",
       "      <td>6311409.28</td>\n",
       "      <td>6311409.27</td>\n",
       "    </tr>\n",
       "    <tr>\n",
       "      <th>2770407</th>\n",
       "      <td>743</td>\n",
       "      <td>1</td>\n",
       "      <td>1</td>\n",
       "      <td>0</td>\n",
       "      <td>1</td>\n",
       "      <td>850002.52</td>\n",
       "      <td>0.00</td>\n",
       "    </tr>\n",
       "    <tr>\n",
       "      <th>2770408</th>\n",
       "      <td>743</td>\n",
       "      <td>1</td>\n",
       "      <td>1</td>\n",
       "      <td>1</td>\n",
       "      <td>0</td>\n",
       "      <td>850002.52</td>\n",
       "      <td>850002.52</td>\n",
       "    </tr>\n",
       "  </tbody>\n",
       "</table>\n",
       "<p>2770409 rows × 7 columns</p>\n",
       "</div>"
      ],
      "text/plain": [
       "         step  isFraud  isFlaggedFraud  _CASH_OUT  _TRANSFER   OrgChange  \\\n",
       "0           1        1               0          0          1      181.00   \n",
       "1           1        1               0          1          0      181.00   \n",
       "2           1        0               1          1          0    15325.00   \n",
       "3           1        0               1          0          1      705.00   \n",
       "4           1        0               1          0          1    10835.00   \n",
       "...       ...      ...             ...        ...        ...         ...   \n",
       "2770404   743        1               1          1          0   339682.13   \n",
       "2770405   743        1               1          0          1  6311409.28   \n",
       "2770406   743        1               1          1          0  6311409.28   \n",
       "2770407   743        1               1          0          1   850002.52   \n",
       "2770408   743        1               1          1          0   850002.52   \n",
       "\n",
       "         DestChange  \n",
       "0              0.00  \n",
       "1          21182.00  \n",
       "2          46430.44  \n",
       "3          22425.00  \n",
       "4        2712905.89  \n",
       "...             ...  \n",
       "2770404   339682.13  \n",
       "2770405        0.00  \n",
       "2770406  6311409.27  \n",
       "2770407        0.00  \n",
       "2770408   850002.52  \n",
       "\n",
       "[2770409 rows x 7 columns]"
      ]
     },
     "execution_count": 191,
     "metadata": {},
     "output_type": "execute_result"
    }
   ],
   "source": [
    "final_df2.drop(columns=drop,inplace=True)\n",
    "final_df2 = final_df2.iloc[:,1:]\n",
    "final_df2"
   ]
  },
  {
   "cell_type": "markdown",
   "id": "604866ee",
   "metadata": {},
   "source": [
    "### Using Standard scaling Technique "
   ]
  },
  {
   "cell_type": "code",
   "execution_count": 192,
   "id": "550e83ed",
   "metadata": {},
   "outputs": [],
   "source": [
    "final_df2_binary = final_df2.drop(columns=['OrgChange','DestChange','step'])\n",
    "final_df2_scalable = final_df2.drop(columns=['isFraud','isFlaggedFraud','_CASH_OUT','_TRANSFER'])"
   ]
  },
  {
   "cell_type": "code",
   "execution_count": 196,
   "id": "548522c6",
   "metadata": {},
   "outputs": [
    {
     "data": {
      "text/html": [
       "<div>\n",
       "<style scoped>\n",
       "    .dataframe tbody tr th:only-of-type {\n",
       "        vertical-align: middle;\n",
       "    }\n",
       "\n",
       "    .dataframe tbody tr th {\n",
       "        vertical-align: top;\n",
       "    }\n",
       "\n",
       "    .dataframe thead th {\n",
       "        text-align: right;\n",
       "    }\n",
       "</style>\n",
       "<table border=\"1\" class=\"dataframe\">\n",
       "  <thead>\n",
       "    <tr style=\"text-align: right;\">\n",
       "      <th></th>\n",
       "      <th>isFraud</th>\n",
       "      <th>isFlaggedFraud</th>\n",
       "      <th>_CASH_OUT</th>\n",
       "      <th>_TRANSFER</th>\n",
       "    </tr>\n",
       "  </thead>\n",
       "  <tbody>\n",
       "    <tr>\n",
       "      <th>0</th>\n",
       "      <td>1</td>\n",
       "      <td>0</td>\n",
       "      <td>0</td>\n",
       "      <td>1</td>\n",
       "    </tr>\n",
       "    <tr>\n",
       "      <th>1</th>\n",
       "      <td>1</td>\n",
       "      <td>0</td>\n",
       "      <td>1</td>\n",
       "      <td>0</td>\n",
       "    </tr>\n",
       "    <tr>\n",
       "      <th>2</th>\n",
       "      <td>0</td>\n",
       "      <td>1</td>\n",
       "      <td>1</td>\n",
       "      <td>0</td>\n",
       "    </tr>\n",
       "    <tr>\n",
       "      <th>3</th>\n",
       "      <td>0</td>\n",
       "      <td>1</td>\n",
       "      <td>0</td>\n",
       "      <td>1</td>\n",
       "    </tr>\n",
       "    <tr>\n",
       "      <th>4</th>\n",
       "      <td>0</td>\n",
       "      <td>1</td>\n",
       "      <td>0</td>\n",
       "      <td>1</td>\n",
       "    </tr>\n",
       "    <tr>\n",
       "      <th>...</th>\n",
       "      <td>...</td>\n",
       "      <td>...</td>\n",
       "      <td>...</td>\n",
       "      <td>...</td>\n",
       "    </tr>\n",
       "    <tr>\n",
       "      <th>2770404</th>\n",
       "      <td>1</td>\n",
       "      <td>1</td>\n",
       "      <td>1</td>\n",
       "      <td>0</td>\n",
       "    </tr>\n",
       "    <tr>\n",
       "      <th>2770405</th>\n",
       "      <td>1</td>\n",
       "      <td>1</td>\n",
       "      <td>0</td>\n",
       "      <td>1</td>\n",
       "    </tr>\n",
       "    <tr>\n",
       "      <th>2770406</th>\n",
       "      <td>1</td>\n",
       "      <td>1</td>\n",
       "      <td>1</td>\n",
       "      <td>0</td>\n",
       "    </tr>\n",
       "    <tr>\n",
       "      <th>2770407</th>\n",
       "      <td>1</td>\n",
       "      <td>1</td>\n",
       "      <td>0</td>\n",
       "      <td>1</td>\n",
       "    </tr>\n",
       "    <tr>\n",
       "      <th>2770408</th>\n",
       "      <td>1</td>\n",
       "      <td>1</td>\n",
       "      <td>1</td>\n",
       "      <td>0</td>\n",
       "    </tr>\n",
       "  </tbody>\n",
       "</table>\n",
       "<p>2770409 rows × 4 columns</p>\n",
       "</div>"
      ],
      "text/plain": [
       "         isFraud  isFlaggedFraud  _CASH_OUT  _TRANSFER\n",
       "0              1               0          0          1\n",
       "1              1               0          1          0\n",
       "2              0               1          1          0\n",
       "3              0               1          0          1\n",
       "4              0               1          0          1\n",
       "...          ...             ...        ...        ...\n",
       "2770404        1               1          1          0\n",
       "2770405        1               1          0          1\n",
       "2770406        1               1          1          0\n",
       "2770407        1               1          0          1\n",
       "2770408        1               1          1          0\n",
       "\n",
       "[2770409 rows x 4 columns]"
      ]
     },
     "execution_count": 196,
     "metadata": {},
     "output_type": "execute_result"
    }
   ],
   "source": [
    "final_df2_binary"
   ]
  },
  {
   "cell_type": "code",
   "execution_count": 195,
   "id": "b471d042",
   "metadata": {},
   "outputs": [
    {
     "data": {
      "text/html": [
       "<div>\n",
       "<style scoped>\n",
       "    .dataframe tbody tr th:only-of-type {\n",
       "        vertical-align: middle;\n",
       "    }\n",
       "\n",
       "    .dataframe tbody tr th {\n",
       "        vertical-align: top;\n",
       "    }\n",
       "\n",
       "    .dataframe thead th {\n",
       "        text-align: right;\n",
       "    }\n",
       "</style>\n",
       "<table border=\"1\" class=\"dataframe\">\n",
       "  <thead>\n",
       "    <tr style=\"text-align: right;\">\n",
       "      <th></th>\n",
       "      <th>step</th>\n",
       "      <th>OrgChange</th>\n",
       "      <th>DestChange</th>\n",
       "    </tr>\n",
       "  </thead>\n",
       "  <tbody>\n",
       "    <tr>\n",
       "      <th>0</th>\n",
       "      <td>1</td>\n",
       "      <td>181.00</td>\n",
       "      <td>0.00</td>\n",
       "    </tr>\n",
       "    <tr>\n",
       "      <th>1</th>\n",
       "      <td>1</td>\n",
       "      <td>181.00</td>\n",
       "      <td>21182.00</td>\n",
       "    </tr>\n",
       "    <tr>\n",
       "      <th>2</th>\n",
       "      <td>1</td>\n",
       "      <td>15325.00</td>\n",
       "      <td>46430.44</td>\n",
       "    </tr>\n",
       "    <tr>\n",
       "      <th>3</th>\n",
       "      <td>1</td>\n",
       "      <td>705.00</td>\n",
       "      <td>22425.00</td>\n",
       "    </tr>\n",
       "    <tr>\n",
       "      <th>4</th>\n",
       "      <td>1</td>\n",
       "      <td>10835.00</td>\n",
       "      <td>2712905.89</td>\n",
       "    </tr>\n",
       "    <tr>\n",
       "      <th>...</th>\n",
       "      <td>...</td>\n",
       "      <td>...</td>\n",
       "      <td>...</td>\n",
       "    </tr>\n",
       "    <tr>\n",
       "      <th>2770404</th>\n",
       "      <td>743</td>\n",
       "      <td>339682.13</td>\n",
       "      <td>339682.13</td>\n",
       "    </tr>\n",
       "    <tr>\n",
       "      <th>2770405</th>\n",
       "      <td>743</td>\n",
       "      <td>6311409.28</td>\n",
       "      <td>0.00</td>\n",
       "    </tr>\n",
       "    <tr>\n",
       "      <th>2770406</th>\n",
       "      <td>743</td>\n",
       "      <td>6311409.28</td>\n",
       "      <td>6311409.27</td>\n",
       "    </tr>\n",
       "    <tr>\n",
       "      <th>2770407</th>\n",
       "      <td>743</td>\n",
       "      <td>850002.52</td>\n",
       "      <td>0.00</td>\n",
       "    </tr>\n",
       "    <tr>\n",
       "      <th>2770408</th>\n",
       "      <td>743</td>\n",
       "      <td>850002.52</td>\n",
       "      <td>850002.52</td>\n",
       "    </tr>\n",
       "  </tbody>\n",
       "</table>\n",
       "<p>2770409 rows × 3 columns</p>\n",
       "</div>"
      ],
      "text/plain": [
       "         step   OrgChange  DestChange\n",
       "0           1      181.00        0.00\n",
       "1           1      181.00    21182.00\n",
       "2           1    15325.00    46430.44\n",
       "3           1      705.00    22425.00\n",
       "4           1    10835.00  2712905.89\n",
       "...       ...         ...         ...\n",
       "2770404   743   339682.13   339682.13\n",
       "2770405   743  6311409.28        0.00\n",
       "2770406   743  6311409.28  6311409.27\n",
       "2770407   743   850002.52        0.00\n",
       "2770408   743   850002.52   850002.52\n",
       "\n",
       "[2770409 rows x 3 columns]"
      ]
     },
     "execution_count": 195,
     "metadata": {},
     "output_type": "execute_result"
    }
   ],
   "source": [
    "final_df2_scalable"
   ]
  },
  {
   "cell_type": "code",
   "execution_count": 232,
   "id": "ce959a21",
   "metadata": {},
   "outputs": [],
   "source": [
    "scaler = StandardScaler()\n",
    "scaler.fit(final_df2_scalable)\n",
    "final_df2_scaled = pd.DataFrame(scaler.transform(final_df2_scalable))\n",
    "final_df2 = pd.concat([final_df2_binary, final_df2_scaled], axis=1)\n",
    "final_df2.rename(columns={0:'step',1:'OrgChange',2:'DestChange'},inplace=True)"
   ]
  },
  {
   "cell_type": "code",
   "execution_count": 233,
   "id": "34d47990",
   "metadata": {
    "scrolled": false
   },
   "outputs": [
    {
     "data": {
      "text/html": [
       "<div>\n",
       "<style scoped>\n",
       "    .dataframe tbody tr th:only-of-type {\n",
       "        vertical-align: middle;\n",
       "    }\n",
       "\n",
       "    .dataframe tbody tr th {\n",
       "        vertical-align: top;\n",
       "    }\n",
       "\n",
       "    .dataframe thead th {\n",
       "        text-align: right;\n",
       "    }\n",
       "</style>\n",
       "<table border=\"1\" class=\"dataframe\">\n",
       "  <thead>\n",
       "    <tr style=\"text-align: right;\">\n",
       "      <th></th>\n",
       "      <th>isFraud</th>\n",
       "      <th>isFlaggedFraud</th>\n",
       "      <th>_CASH_OUT</th>\n",
       "      <th>_TRANSFER</th>\n",
       "      <th>step</th>\n",
       "      <th>OrgChange</th>\n",
       "      <th>DestChange</th>\n",
       "    </tr>\n",
       "  </thead>\n",
       "  <tbody>\n",
       "    <tr>\n",
       "      <th>0</th>\n",
       "      <td>1</td>\n",
       "      <td>0</td>\n",
       "      <td>0</td>\n",
       "      <td>1</td>\n",
       "      <td>-1.701805</td>\n",
       "      <td>-0.191519</td>\n",
       "      <td>-0.297938</td>\n",
       "    </tr>\n",
       "    <tr>\n",
       "      <th>1</th>\n",
       "      <td>1</td>\n",
       "      <td>0</td>\n",
       "      <td>1</td>\n",
       "      <td>0</td>\n",
       "      <td>-1.701805</td>\n",
       "      <td>-0.191519</td>\n",
       "      <td>-0.279934</td>\n",
       "    </tr>\n",
       "    <tr>\n",
       "      <th>2</th>\n",
       "      <td>0</td>\n",
       "      <td>1</td>\n",
       "      <td>1</td>\n",
       "      <td>0</td>\n",
       "      <td>-1.701805</td>\n",
       "      <td>-0.099063</td>\n",
       "      <td>-0.258473</td>\n",
       "    </tr>\n",
       "    <tr>\n",
       "      <th>3</th>\n",
       "      <td>0</td>\n",
       "      <td>1</td>\n",
       "      <td>0</td>\n",
       "      <td>1</td>\n",
       "      <td>-1.701805</td>\n",
       "      <td>-0.188320</td>\n",
       "      <td>-0.278878</td>\n",
       "    </tr>\n",
       "    <tr>\n",
       "      <th>4</th>\n",
       "      <td>0</td>\n",
       "      <td>1</td>\n",
       "      <td>0</td>\n",
       "      <td>1</td>\n",
       "      <td>-1.701805</td>\n",
       "      <td>-0.126475</td>\n",
       "      <td>2.007973</td>\n",
       "    </tr>\n",
       "    <tr>\n",
       "      <th>...</th>\n",
       "      <td>...</td>\n",
       "      <td>...</td>\n",
       "      <td>...</td>\n",
       "      <td>...</td>\n",
       "      <td>...</td>\n",
       "      <td>...</td>\n",
       "      <td>...</td>\n",
       "    </tr>\n",
       "    <tr>\n",
       "      <th>2770404</th>\n",
       "      <td>1</td>\n",
       "      <td>1</td>\n",
       "      <td>1</td>\n",
       "      <td>0</td>\n",
       "      <td>3.537602</td>\n",
       "      <td>1.881177</td>\n",
       "      <td>-0.009216</td>\n",
       "    </tr>\n",
       "    <tr>\n",
       "      <th>2770405</th>\n",
       "      <td>1</td>\n",
       "      <td>1</td>\n",
       "      <td>0</td>\n",
       "      <td>1</td>\n",
       "      <td>3.537602</td>\n",
       "      <td>38.339298</td>\n",
       "      <td>-0.297938</td>\n",
       "    </tr>\n",
       "    <tr>\n",
       "      <th>2770406</th>\n",
       "      <td>1</td>\n",
       "      <td>1</td>\n",
       "      <td>1</td>\n",
       "      <td>0</td>\n",
       "      <td>3.537602</td>\n",
       "      <td>38.339298</td>\n",
       "      <td>5.066623</td>\n",
       "    </tr>\n",
       "    <tr>\n",
       "      <th>2770407</th>\n",
       "      <td>1</td>\n",
       "      <td>1</td>\n",
       "      <td>0</td>\n",
       "      <td>1</td>\n",
       "      <td>3.537602</td>\n",
       "      <td>4.996745</td>\n",
       "      <td>-0.297938</td>\n",
       "    </tr>\n",
       "    <tr>\n",
       "      <th>2770408</th>\n",
       "      <td>1</td>\n",
       "      <td>1</td>\n",
       "      <td>1</td>\n",
       "      <td>0</td>\n",
       "      <td>3.537602</td>\n",
       "      <td>4.996745</td>\n",
       "      <td>0.424545</td>\n",
       "    </tr>\n",
       "  </tbody>\n",
       "</table>\n",
       "<p>2770409 rows × 7 columns</p>\n",
       "</div>"
      ],
      "text/plain": [
       "         isFraud  isFlaggedFraud  _CASH_OUT  _TRANSFER      step  OrgChange  \\\n",
       "0              1               0          0          1 -1.701805  -0.191519   \n",
       "1              1               0          1          0 -1.701805  -0.191519   \n",
       "2              0               1          1          0 -1.701805  -0.099063   \n",
       "3              0               1          0          1 -1.701805  -0.188320   \n",
       "4              0               1          0          1 -1.701805  -0.126475   \n",
       "...          ...             ...        ...        ...       ...        ...   \n",
       "2770404        1               1          1          0  3.537602   1.881177   \n",
       "2770405        1               1          0          1  3.537602  38.339298   \n",
       "2770406        1               1          1          0  3.537602  38.339298   \n",
       "2770407        1               1          0          1  3.537602   4.996745   \n",
       "2770408        1               1          1          0  3.537602   4.996745   \n",
       "\n",
       "         DestChange  \n",
       "0         -0.297938  \n",
       "1         -0.279934  \n",
       "2         -0.258473  \n",
       "3         -0.278878  \n",
       "4          2.007973  \n",
       "...             ...  \n",
       "2770404   -0.009216  \n",
       "2770405   -0.297938  \n",
       "2770406    5.066623  \n",
       "2770407   -0.297938  \n",
       "2770408    0.424545  \n",
       "\n",
       "[2770409 rows x 7 columns]"
      ]
     },
     "execution_count": 233,
     "metadata": {},
     "output_type": "execute_result"
    }
   ],
   "source": [
    "final_df2"
   ]
  },
  {
   "cell_type": "markdown",
   "id": "596d41c5",
   "metadata": {},
   "source": [
    "# 3. Model Testing and Evaluation"
   ]
  },
  {
   "cell_type": "markdown",
   "id": "d47356df",
   "metadata": {},
   "source": [
    "Models used are:\n",
    "\n",
    "- Logistic Regression with cross validation\n",
    "- XG Boost\n",
    "- K Neighbors\n",
    "- Weighted Logistic Regression\n",
    "- Gradient Boosting\n",
    "- Logistic Regression with SMOTE"
   ]
  },
  {
   "cell_type": "code",
   "execution_count": 199,
   "id": "18fbdbfb",
   "metadata": {},
   "outputs": [],
   "source": [
    "X = final_df2.drop(columns=['isFraud'], axis=1)\n",
    "y = final_df2['isFraud']\n",
    "\n",
    "X_train, X_test, y_train, y_test = train_test_split(X, y)"
   ]
  },
  {
   "cell_type": "markdown",
   "id": "d94e5f3b",
   "metadata": {},
   "source": [
    "#### Checking our most important features"
   ]
  },
  {
   "cell_type": "code",
   "execution_count": 206,
   "id": "27bced48",
   "metadata": {},
   "outputs": [],
   "source": [
    "# coef = model.coef_[0]\n",
    "# imp_features = pd.Series(X_train.columns)[list(coef!=0)]\n",
    "# imp_features"
   ]
  },
  {
   "cell_type": "markdown",
   "id": "063ddea5",
   "metadata": {},
   "source": [
    "## Logistic Regression with cross validation"
   ]
  },
  {
   "cell_type": "code",
   "execution_count": 215,
   "id": "cf51c898",
   "metadata": {},
   "outputs": [
    {
     "name": "stdout",
     "output_type": "stream",
     "text": [
      "              precision    recall  f1-score   support\n",
      "\n",
      "           0       1.00      1.00      1.00    690552\n",
      "           1       0.89      0.52      0.66      2051\n",
      "\n",
      "    accuracy                           1.00    692603\n",
      "   macro avg       0.94      0.76      0.83    692603\n",
      "weighted avg       1.00      1.00      1.00    692603\n",
      "\n"
     ]
    }
   ],
   "source": [
    "model = LogisticRegressionCV(cv=5)\n",
    "model.fit(X_train, y_train)\n",
    "y_pred = model.predict(X_test)\n",
    "\n",
    "print(classification_report(y_test, y_pred))"
   ]
  },
  {
   "cell_type": "code",
   "execution_count": 216,
   "id": "58241502",
   "metadata": {},
   "outputs": [
    {
     "data": {
      "image/png": "[encoded data removed]",
      "text/plain": [
       "<Figure size 432x288 with 2 Axes>"
      ]
     },
     "metadata": {
      "needs_background": "light"
     },
     "output_type": "display_data"
    }
   ],
   "source": [
    "cm = confusion_matrix(y_test, y_pred, labels=model.classes_)\n",
    "disp = ConfusionMatrixDisplay(confusion_matrix=cm, display_labels=model.classes_)\n",
    "\n",
    "disp.plot()\n",
    "plt.show()"
   ]
  },
  {
   "cell_type": "code",
   "execution_count": 217,
   "id": "140f0a49",
   "metadata": {
    "scrolled": true
   },
   "outputs": [
    {
     "data": {
      "image/png": "[encoded data removed]",
      "text/plain": [
       "<Figure size 432x288 with 1 Axes>"
      ]
     },
     "metadata": {
      "needs_background": "light"
     },
     "output_type": "display_data"
    }
   ],
   "source": [
    "plot_roc_curve(model, X_test, y_test)\n",
    "plt.show()"
   ]
  },
  {
   "cell_type": "markdown",
   "id": "2b30f2b4",
   "metadata": {},
   "source": [
    "## XG Boost"
   ]
  },
  {
   "cell_type": "code",
   "execution_count": 218,
   "id": "b9f5dc9b",
   "metadata": {},
   "outputs": [
    {
     "name": "stderr",
     "output_type": "stream",
     "text": [
      "/Users/Abhinav/opt/anaconda3/envs/myenv/lib/python3.9/site-packages/xgboost/sklearn.py:1146: UserWarning: The use of label encoder in XGBClassifier is deprecated and will be removed in a future release. To remove this warning, do the following: 1) Pass option use_label_encoder=False when constructing XGBClassifier object; and 2) Encode your labels (y) as integers starting with 0, i.e. 0, 1, 2, ..., [num_class - 1].\n",
      "  warnings.warn(label_encoder_deprecation_msg, UserWarning)\n"
     ]
    },
    {
     "name": "stdout",
     "output_type": "stream",
     "text": [
      "[13:20:13] WARNING: /Users/travis/build/dmlc/xgboost/src/learner.cc:1095: Starting in XGBoost 1.3.0, the default evaluation metric used with the objective 'binary:logistic' was changed from 'error' to 'logloss'. Explicitly set eval_metric if you'd like to restore the old behavior.\n",
      "              precision    recall  f1-score   support\n",
      "\n",
      "           0       1.00      1.00      1.00    690552\n",
      "           1       0.98      0.81      0.88      2051\n",
      "\n",
      "    accuracy                           1.00    692603\n",
      "   macro avg       0.99      0.90      0.94    692603\n",
      "weighted avg       1.00      1.00      1.00    692603\n",
      "\n"
     ]
    }
   ],
   "source": [
    "from numpy import loadtxt\n",
    "from xgboost import XGBClassifier\n",
    "\n",
    "model = XGBClassifier()\n",
    "model.fit(X_train, y_train)\n",
    "\n",
    "y_pred = model.predict(X_test)\n",
    "\n",
    "print(classification_report(y_test, y_pred))"
   ]
  },
  {
   "cell_type": "code",
   "execution_count": 219,
   "id": "58241502",
   "metadata": {},
   "outputs": [
    {
     "data": {
      "image/png": "[encoded data removed]",
      "text/plain": [
       "<Figure size 432x288 with 2 Axes>"
      ]
     },
     "metadata": {
      "needs_background": "light"
     },
     "output_type": "display_data"
    }
   ],
   "source": [
    "cm = confusion_matrix(y_test, y_pred, labels=model.classes_)\n",
    "disp = ConfusionMatrixDisplay(confusion_matrix=cm, display_labels=model.classes_)\n",
    "\n",
    "disp.plot()\n",
    "plt.show()"
   ]
  },
  {
   "cell_type": "code",
   "execution_count": 220,
   "id": "140f0a49",
   "metadata": {
    "scrolled": true
   },
   "outputs": [
    {
     "data": {
      "image/png": "[encoded data removed]",
      "text/plain": [
       "<Figure size 432x288 with 1 Axes>"
      ]
     },
     "metadata": {
      "needs_background": "light"
     },
     "output_type": "display_data"
    }
   ],
   "source": [
    "plot_roc_curve(model, X_test, y_test)\n",
    "plt.show()"
   ]
  },
  {
   "cell_type": "markdown",
   "id": "7591b711",
   "metadata": {},
   "source": [
    "## K Neighbors "
   ]
  },
  {
   "cell_type": "code",
   "execution_count": 229,
   "id": "cf51c898",
   "metadata": {},
   "outputs": [
    {
     "name": "stdout",
     "output_type": "stream",
     "text": [
      "              precision    recall  f1-score   support\n",
      "\n",
      "           0       1.00      1.00      1.00    690552\n",
      "           1       0.95      0.67      0.79      2051\n",
      "\n",
      "    accuracy                           1.00    692603\n",
      "   macro avg       0.97      0.84      0.89    692603\n",
      "weighted avg       1.00      1.00      1.00    692603\n",
      "\n"
     ]
    }
   ],
   "source": [
    "from sklearn.neighbors import KNeighborsClassifier\n",
    "\n",
    "model = KNeighborsClassifier()\n",
    "model.fit(X_train, y_train)\n",
    "\n",
    "y_pred = model.predict(X_test)\n",
    "\n",
    "print(classification_report(y_test, y_pred))"
   ]
  },
  {
   "cell_type": "code",
   "execution_count": 230,
   "id": "58241502",
   "metadata": {},
   "outputs": [
    {
     "data": {
      "image/png": "[encoded data removed]",
      "text/plain": [
       "<Figure size 432x288 with 2 Axes>"
      ]
     },
     "metadata": {
      "needs_background": "light"
     },
     "output_type": "display_data"
    }
   ],
   "source": [
    "cm = confusion_matrix(y_test, y_pred, labels=model.classes_)\n",
    "disp = ConfusionMatrixDisplay(confusion_matrix=cm, display_labels=model.classes_)\n",
    "\n",
    "disp.plot()\n",
    "plt.show()"
   ]
  },
  {
   "cell_type": "code",
   "execution_count": 231,
   "id": "140f0a49",
   "metadata": {},
   "outputs": [
    {
     "data": {
      "image/png": "[encoded data removed]",
      "text/plain": [
       "<Figure size 432x288 with 1 Axes>"
      ]
     },
     "metadata": {
      "needs_background": "light"
     },
     "output_type": "display_data"
    }
   ],
   "source": [
    "plot_roc_curve(model, X_test, y_test)\n",
    "plt.show()"
   ]
  },
  {
   "cell_type": "markdown",
   "id": "5f569642",
   "metadata": {},
   "source": [
    "## Weighted Logistic Regression"
   ]
  },
  {
   "cell_type": "code",
   "execution_count": 207,
   "id": "97ebe645",
   "metadata": {},
   "outputs": [
    {
     "name": "stdout",
     "output_type": "stream",
     "text": [
      "              precision    recall  f1-score   support\n",
      "\n",
      "           0       1.00      0.98      0.99    690552\n",
      "           1       0.12      0.83      0.22      2051\n",
      "\n",
      "    accuracy                           0.98    692603\n",
      "   macro avg       0.56      0.91      0.60    692603\n",
      "weighted avg       1.00      0.98      0.99    692603\n",
      "\n"
     ]
    }
   ],
   "source": [
    "# define class weights\n",
    "w = {0:1, 1:99}\n",
    "\n",
    "# define model\n",
    "lg2 = LogisticRegression(class_weight=w)\n",
    "# fit it\n",
    "lg2.fit(X_train,y_train)\n",
    "# test\n",
    "y_pred = lg2.predict(X_test)\n",
    "\n",
    "print(classification_report(y_test, y_pred))"
   ]
  },
  {
   "cell_type": "code",
   "execution_count": 208,
   "id": "a8743ae4",
   "metadata": {},
   "outputs": [
    {
     "data": {
      "image/png": "[encoded data removed]",
      "text/plain": [
       "<Figure size 432x288 with 2 Axes>"
      ]
     },
     "metadata": {
      "needs_background": "light"
     },
     "output_type": "display_data"
    }
   ],
   "source": [
    "cm = confusion_matrix(y_test, y_pred, labels=model.classes_)\n",
    "disp = ConfusionMatrixDisplay(confusion_matrix=cm, display_labels=model.classes_)\n",
    "\n",
    "disp.plot()\n",
    "plt.show()"
   ]
  },
  {
   "cell_type": "code",
   "execution_count": 209,
   "id": "61652698",
   "metadata": {
    "scrolled": false
   },
   "outputs": [
    {
     "data": {
      "image/png": "[encoded data removed]",
      "text/plain": [
       "<Figure size 432x288 with 1 Axes>"
      ]
     },
     "metadata": {
      "needs_background": "light"
     },
     "output_type": "display_data"
    }
   ],
   "source": [
    "plot_roc_curve(model, X_test, y_test)\n",
    "plt.show()"
   ]
  },
  {
   "cell_type": "markdown",
   "id": "46d3b8a4",
   "metadata": {},
   "source": [
    "## Gradient Boosting"
   ]
  },
  {
   "cell_type": "code",
   "execution_count": 223,
   "id": "cf51c898",
   "metadata": {},
   "outputs": [
    {
     "name": "stdout",
     "output_type": "stream",
     "text": [
      "              precision    recall  f1-score   support\n",
      "\n",
      "           0       1.00      1.00      1.00    690552\n",
      "           1       0.96      0.73      0.83      2051\n",
      "\n",
      "    accuracy                           1.00    692603\n",
      "   macro avg       0.98      0.86      0.91    692603\n",
      "weighted avg       1.00      1.00      1.00    692603\n",
      "\n",
      "              precision    recall  f1-score   support\n",
      "\n",
      "           0       1.00      1.00      1.00    690552\n",
      "           1       0.90      0.71      0.79      2051\n",
      "\n",
      "    accuracy                           1.00    692603\n",
      "   macro avg       0.95      0.85      0.90    692603\n",
      "weighted avg       1.00      1.00      1.00    692603\n",
      "\n",
      "              precision    recall  f1-score   support\n",
      "\n",
      "           0       1.00      1.00      1.00    690552\n",
      "           1       0.97      0.73      0.83      2051\n",
      "\n",
      "    accuracy                           1.00    692603\n",
      "   macro avg       0.98      0.87      0.92    692603\n",
      "weighted avg       1.00      1.00      1.00    692603\n",
      "\n",
      "              precision    recall  f1-score   support\n",
      "\n",
      "           0       1.00      1.00      1.00    690552\n",
      "           1       0.89      0.32      0.47      2051\n",
      "\n",
      "    accuracy                           1.00    692603\n",
      "   macro avg       0.94      0.66      0.74    692603\n",
      "weighted avg       1.00      1.00      1.00    692603\n",
      "\n",
      "              precision    recall  f1-score   support\n",
      "\n",
      "           0       1.00      1.00      1.00    690552\n",
      "           1       0.60      0.52      0.56      2051\n",
      "\n",
      "    accuracy                           1.00    692603\n",
      "   macro avg       0.80      0.76      0.78    692603\n",
      "weighted avg       1.00      1.00      1.00    692603\n",
      "\n",
      "              precision    recall  f1-score   support\n",
      "\n",
      "           0       1.00      1.00      1.00    690552\n",
      "           1       0.72      0.51      0.59      2051\n",
      "\n",
      "    accuracy                           1.00    692603\n",
      "   macro avg       0.86      0.75      0.80    692603\n",
      "weighted avg       1.00      1.00      1.00    692603\n",
      "\n",
      "              precision    recall  f1-score   support\n",
      "\n",
      "           0       1.00      1.00      1.00    690552\n",
      "           1       0.47      0.18      0.26      2051\n",
      "\n",
      "    accuracy                           1.00    692603\n",
      "   macro avg       0.73      0.59      0.63    692603\n",
      "weighted avg       1.00      1.00      1.00    692603\n",
      "\n"
     ]
    }
   ],
   "source": [
    "from sklearn.ensemble import GradientBoostingClassifier\n",
    "\n",
    "lr_list = [0.05, 0.075, 0.1, 0.25, 0.5, 0.75, 1]\n",
    "for learning_rate in lr_list:\n",
    "    model = GradientBoostingClassifier(learning_rate=learning_rate, random_state=0)\n",
    "    model.fit(X_train, y_train)\n",
    "\n",
    "    y_pred = model.predict(X_test)\n",
    "\n",
    "    print(classification_report(y_test, y_pred))"
   ]
  },
  {
   "cell_type": "code",
   "execution_count": 224,
   "id": "58241502",
   "metadata": {},
   "outputs": [
    {
     "data": {
      "image/png": "[encoded data removed]",
      "text/plain": [
       "<Figure size 432x288 with 2 Axes>"
      ]
     },
     "metadata": {
      "needs_background": "light"
     },
     "output_type": "display_data"
    }
   ],
   "source": [
    "cm = confusion_matrix(y_test, y_pred, labels=model.classes_)\n",
    "disp = ConfusionMatrixDisplay(confusion_matrix=cm, display_labels=model.classes_)\n",
    "\n",
    "disp.plot()\n",
    "plt.show()"
   ]
  },
  {
   "cell_type": "code",
   "execution_count": 225,
   "id": "140f0a49",
   "metadata": {},
   "outputs": [
    {
     "data": {
      "image/png": "[encoded data removed]",
      "text/plain": [
       "<Figure size 432x288 with 1 Axes>"
      ]
     },
     "metadata": {
      "needs_background": "light"
     },
     "output_type": "display_data"
    }
   ],
   "source": [
    "plot_roc_curve(model, X_test, y_test)\n",
    "plt.show()"
   ]
  },
  {
   "cell_type": "markdown",
   "id": "2847233a",
   "metadata": {},
   "source": [
    "## Logistic Regression with SMOTE "
   ]
  },
  {
   "cell_type": "markdown",
   "id": "e978063c",
   "metadata": {},
   "source": [
    "Due to high imbalance between majority class and minority class, we try applying SMOTE by oversampling the minority class. In our case, the minority class is True fraudulent transactions."
   ]
  },
  {
   "cell_type": "code",
   "execution_count": 210,
   "id": "96aedaaf",
   "metadata": {},
   "outputs": [
    {
     "name": "stdout",
     "output_type": "stream",
     "text": [
      "Before OverSampling, counts of label '1': 6162\n",
      "Before OverSampling, counts of label '0': 2071644 \n",
      "\n",
      "After OverSampling, the shape of X_train_new: (4143288, 6)\n",
      "After OverSampling, the shape of y_train_new: (4143288, 1) \n",
      "\n"
     ]
    }
   ],
   "source": [
    "print(\"Before OverSampling, counts of label '1': {}\".format(sum(y_train==1)))\n",
    "print(\"Before OverSampling, counts of label '0': {} \\n\".format(sum(y_train==0)))\n",
    "\n",
    "sm = SMOTE(random_state=2)\n",
    "X_train_new, y_train_new = sm.fit_resample(X_train, y_train.ravel())\n",
    "\n",
    "X_train_new = pd.DataFrame(X_train_new)\n",
    "X_train_new.columns = X_train.columns\n",
    "y_train_new = pd.DataFrame(y_train_new)\n",
    "\n",
    "print('After OverSampling, the shape of X_train_new: {}'.format(X_train_new.shape))\n",
    "print('After OverSampling, the shape of y_train_new: {} \\n'.format(y_train_new.shape))"
   ]
  },
  {
   "cell_type": "code",
   "execution_count": 211,
   "id": "8085ea80",
   "metadata": {},
   "outputs": [
    {
     "name": "stdout",
     "output_type": "stream",
     "text": [
      "              precision    recall  f1-score   support\n",
      "\n",
      "           0       1.00      0.94      0.97    690552\n",
      "           1       0.04      0.93      0.08      2051\n",
      "\n",
      "    accuracy                           0.94    692603\n",
      "   macro avg       0.52      0.93      0.53    692603\n",
      "weighted avg       1.00      0.94      0.97    692603\n",
      "\n"
     ]
    }
   ],
   "source": [
    "model = LogisticRegression()\n",
    "model.fit(X_train_new, np.ravel(y_train_new))\n",
    "y_pred = model.predict(X_test)\n",
    "\n",
    "print(classification_report(y_test, y_pred))"
   ]
  },
  {
   "cell_type": "code",
   "execution_count": 212,
   "id": "aea5bf0c",
   "metadata": {},
   "outputs": [
    {
     "data": {
      "image/png": "[encoded data removed]",
      "text/plain": [
       "<Figure size 432x288 with 2 Axes>"
      ]
     },
     "metadata": {
      "needs_background": "light"
     },
     "output_type": "display_data"
    }
   ],
   "source": [
    "cm = confusion_matrix(y_test, y_pred, labels=model.classes_)\n",
    "disp = ConfusionMatrixDisplay(confusion_matrix=cm, display_labels=model.classes_)\n",
    "\n",
    "disp.plot()\n",
    "plt.show()"
   ]
  },
  {
   "cell_type": "code",
   "execution_count": 213,
   "id": "03a0de3c",
   "metadata": {
    "scrolled": true
   },
   "outputs": [
    {
     "data": {
      "image/png": "[encoded data removed]",
      "text/plain": [
       "<Figure size 432x288 with 1 Axes>"
      ]
     },
     "metadata": {
      "needs_background": "light"
     },
     "output_type": "display_data"
    }
   ],
   "source": [
    "plot_roc_curve(model, X_test, y_test)\n",
    "plt.show()"
   ]
  },
  {
   "cell_type": "markdown",
   "id": "eff287d3",
   "metadata": {},
   "source": [
    "#### Ideally for choosing a model for our business problem, a model with high precision and low recall would be recommended. \n",
    " After evaluating the accuracy, f1-score and confusion matrix of each model, we can see that the XG Boost model is has higher score in each category. Looking at the XG Boost confusion matrix we can see that the model has done a very good job classifying the fraudulent transactions.\n",
    " \n",
    " Thus we have succeefully built six types of classification models and after evaluating each model, we can conclude that the XG Boost model is the best model for our use case."
   ]
  }
 ],
 "metadata": {
  "kernelspec": {
   "display_name": "Python 3 (ipykernel)",
   "language": "python",
   "name": "python3"
  },
  "language_info": {
   "codemirror_mode": {
    "name": "ipython",
    "version": 3
   },
   "file_extension": ".py",
   "mimetype": "text/x-python",
   "name": "python",
   "nbconvert_exporter": "python",
   "pygments_lexer": "ipython3",
   "version": "3.9.5"
  }
 },
 "nbformat": 4,
 "nbformat_minor": 5
}
